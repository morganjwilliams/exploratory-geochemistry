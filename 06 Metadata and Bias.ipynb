{
 "cells": [
  {
   "cell_type": "markdown",
   "metadata": {},
   "source": [
    "# 6. Metadata and Assessing Potential Bias\n",
    "Compiled by [Morgan Williams](mailto:morgan.williams@csiro.au) for C3DIS 2018 "
   ]
  },
  {
   "cell_type": "code",
   "execution_count": 1,
   "metadata": {},
   "outputs": [],
   "source": [
    "import numpy as np\n",
    "import pandas as pd\n",
    "from mpl_toolkits.basemap import Basemap\n",
    "import matplotlib.patches as patches\n",
    "import matplotlib.colors as colors\n",
    "from matplotlib.colors import LogNorm\n",
    "\n",
    "from plotting_tools import *"
   ]
  },
  {
   "cell_type": "markdown",
   "metadata": {},
   "source": [
    "### Data Coverage"
   ]
  },
  {
   "cell_type": "code",
   "execution_count": null,
   "metadata": {},
   "outputs": [],
   "source": [
    "ax = df.count()[::-1].plot.barh(figsize=(12, 20), logx=False, color='seagreen');\n",
    "ax.set_ylabel('Column', fontsize=16)\n",
    "ax.set_xlabel('Count', fontsize=16)"
   ]
  },
  {
   "cell_type": "markdown",
   "metadata": {},
   "source": [
    "### Spatial Distribution"
   ]
  },
  {
   "cell_type": "code",
   "execution_count": null,
   "metadata": {},
   "outputs": [],
   "source": [
    "fig, ax = plt.subplots(1, figsize=(12, 6))\n",
    "ax=[ax]\n",
    "ax[0].set_xlabel('Longitude', labelpad=20)\n",
    "ax[0].set_ylabel('Latitude', labelpad=20)\n",
    "bmp = Basemap(ax=ax[0], projection='mill', lon_0=0, resolution='l')\n",
    "bmp.drawcoastlines(linewidth=0.1)\n",
    "bmp.drawparallels(np.arange(-90,90,30), labels=[1,0,0,0], linewidth=0.1)\n",
    "bmp.drawmeridians(np.arange(bmp.lonmin, bmp.lonmax + 30,60), labels=[0,0,0,1], linewidth=0.1)\n",
    "bmp.drawmapboundary(fill_color='lightblue')\n",
    "bmp.fillcontinents(color='0.5', lake_color='lightblue', alpha=0.5)\n",
    "\n",
    "filt = (df.Material == 'IGNEOUS')\n",
    "plot_latlong(df.loc[filt, :], bmp, ax=ax[0], alpha=0.1, linewidth=0, color='red', marker='D', s=0.1, zorder=3)\n",
    "heatmap = False\n",
    "if heatmap:\n",
    "    nx, ny = 45, 45\n",
    "    lon_bins = np.linspace(-180, 180, nx+1)\n",
    "    lat_bins = np.linspace(-90, 90, ny+1)\n",
    "\n",
    "    heatmap, _, _ = np.histogram2d(df.loc[filt, 'Longitude'], df.loc[filt, 'Latitude'], bins=[lon_bins, lat_bins])\n",
    "    lon_bins_2d, lat_bins_2d = np.meshgrid(lon_bins, lat_bins)\n",
    "    xs, ys = bmp(lon_bins_2d, lat_bins_2d)\n",
    "    im  = ax[0].pcolormesh(xs, ys, heatmap.T, \n",
    "                           alpha=0.5,\n",
    "                           norm=LogNorm(),\n",
    "                           cmap='viridis',\n",
    "                           zorder=2)\n",
    "    cb = colorbar(im, shrink=0.8,)\n",
    "    cb.set_label('Histogram Frequency')\n"
   ]
  },
  {
   "cell_type": "markdown",
   "metadata": {},
   "source": [
    "### Age Distribution"
   ]
  },
  {
   "cell_type": "code",
   "execution_count": null,
   "metadata": {},
   "outputs": [],
   "source": [
    "fig, ax = plt.subplots(2, 1,figsize=(10,4), sharex=True)\n",
    "bins=100\n",
    "f, a, r = age_distribution(df, yvar=None, agevar='Age', ax=ax[0], bins=bins, color='0.5', zorder=3, histtype='step', label='Full')\n",
    "ax[0].set_yscale('log')\n",
    "ax[0].set_ylabel('freq')\n",
    "ax[0].set_xlim((0, 4500))\n",
    "ax[0].set_ylim((1, 100000))\n",
    "for rock_type, style in [('Basalt', dict(c='g', alpha=0.1, s=20, marker='D', zorder=3)),\n",
    "                         ('Rhyolite', dict(c='r', alpha=0.1, s=20, marker='D', zorder=2)),\n",
    "                        ]:\n",
    "    \n",
    "    rockdf = df.loc[df.TASRock == rock_type, :]\n",
    "    f, a, r = age_distribution(rockdf, yvar='MgO', agevar='Age', ax=ax[1], label=rock_type, **style)\n",
    "    age_distribution(rockdf, yvar=None, ax=ax[0], bins=bins,\n",
    "                     color=style['c'], zorder=3, histtype='step', label=rock_type)\n",
    "    a.set_yscale('log')\n",
    "    a.set_ylim((0.01, 100))\n",
    "\n",
    "ax[0].legend(frameon=False)\n",
    "ax[1].legend(frameon=False)"
   ]
  },
  {
   "cell_type": "code",
   "execution_count": null,
   "metadata": {},
   "outputs": [],
   "source": []
  }
 ],
 "metadata": {
  "kernelspec": {
   "display_name": "Python 3",
   "language": "python",
   "name": "python3"
  },
  "language_info": {
   "codemirror_mode": {
    "name": "ipython",
    "version": 3
   },
   "file_extension": ".py",
   "mimetype": "text/x-python",
   "name": "python",
   "nbconvert_exporter": "python",
   "pygments_lexer": "ipython3",
   "version": "3.6.4"
  }
 },
 "nbformat": 4,
 "nbformat_minor": 2
}
