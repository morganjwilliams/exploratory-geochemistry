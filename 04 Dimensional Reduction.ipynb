{
 "cells": [
  {
   "cell_type": "markdown",
   "metadata": {},
   "source": [
    "# 4. Dimensional Reduction\n",
    "Compiled by Morgan Williams for C3DIS 2018 [Contact](mailto:morgan.williams@csiro.au)"
   ]
  },
  {
   "cell_type": "code",
   "execution_count": 16,
   "metadata": {},
   "outputs": [],
   "source": [
    "%matplotlib inline\n",
    "%load_ext autoreload\n",
    "%autoreload 2"
   ]
  },
  {
   "cell_type": "code",
   "execution_count": 15,
   "metadata": {},
   "outputs": [],
   "source": [
    "import os, sys\n",
    "import numpy as np\n",
    "import pandas as pd\n",
    "import matplotlib.pyplot as plt\n",
    "import matplotlib.colors as mcolors\n",
    "from sklearn.decomposition import PCA\n",
    "\n",
    "from compositions import *\n",
    "\n",
    "np.random.seed(1)\n",
    "\n"
   ]
  },
  {
   "cell_type": "code",
   "execution_count": 12,
   "metadata": {},
   "outputs": [],
   "source": [
    "fndir = r'data/examples/'\n",
    "fns = ['boxite.xlsx', 'coxite.xlsx', 'hongite.xlsx', 'kongite.xlsx']\n",
    "dfs = [pd.read_excel(os.path.join(fndir, f)) for f in fns]\n",
    "[setattr(df, 'label', fns[ix]) for ix, df in enumerate(dfs)]\n",
    "B, C, H, K = dfs"
   ]
  },
  {
   "cell_type": "code",
   "execution_count": 13,
   "metadata": {},
   "outputs": [
    {
     "name": "stdout",
     "output_type": "stream",
     "text": [
      "[[0.335      0.061      0.413      0.071      0.12      ]\n",
      " [0.476      0.149      0.161      0.148      0.066     ]\n",
      " [0.527      0.239      0.06       0.087      0.087     ]\n",
      " [0.445      0.242      0.107      0.119      0.087     ]\n",
      " [0.423      0.476      0.006      0.041      0.054     ]\n",
      " [0.518      0.332      0.019      0.07       0.061     ]\n",
      " [0.479      0.215      0.107      0.095      0.104     ]\n",
      " [0.512      0.236      0.062      0.133      0.057     ]\n",
      " [0.193      0.023      0.658      0.058      0.068     ]\n",
      " [0.461      0.234      0.104      0.115      0.086     ]\n",
      " [0.306      0.067      0.43       0.063      0.134     ]\n",
      " [0.497      0.281      0.051      0.08       0.091     ]\n",
      " [0.494      0.243      0.076      0.085      0.102     ]\n",
      " [0.384      0.095      0.306      0.148      0.067     ]\n",
      " [0.416      0.19       0.173      0.138      0.083     ]\n",
      " [0.423      0.433      0.016      0.059      0.069     ]\n",
      " [0.457      0.239      0.103      0.116      0.085     ]\n",
      " [0.455      0.203      0.136      0.109      0.097     ]\n",
      " [0.521      0.179      0.107      0.079      0.114     ]\n",
      " [0.462      0.143      0.185      0.122      0.088     ]\n",
      " [0.47484909 0.31086519 0.04024145 0.06338028 0.11066398]\n",
      " [0.45129225 0.33101392 0.04572565 0.11829026 0.05367793]\n",
      " [0.486      0.234      0.087      0.107      0.086     ]\n",
      " [0.312      0.045      0.47       0.102      0.071     ]\n",
      " [0.443      0.15       0.194      0.105      0.108     ]]\n"
     ]
    }
   ],
   "source": [
    "print(X)"
   ]
  },
  {
   "cell_type": "markdown",
   "metadata": {},
   "source": [
    "## Principal Component Analysis"
   ]
  },
  {
   "cell_type": "code",
   "execution_count": null,
   "metadata": {},
   "outputs": [],
   "source": []
  },
  {
   "cell_type": "markdown",
   "metadata": {},
   "source": [
    "## Measures of Geochemical Similarity"
   ]
  },
  {
   "cell_type": "code",
   "execution_count": null,
   "metadata": {},
   "outputs": [],
   "source": []
  },
  {
   "cell_type": "markdown",
   "metadata": {},
   "source": [
    "## Mixtures"
   ]
  },
  {
   "cell_type": "markdown",
   "metadata": {},
   "source": [
    "#### Polytypic Vector Analysis\n",
    "Reproduce analysis of Szymanski et al (2013): Evaluating Complex Magma Mixing via Polytopic Vector Analysis (PVA) in the Papagayo Tuff, Northern Costa Rica: Processes that Form Continental Crust"
   ]
  },
  {
   "cell_type": "code",
   "execution_count": null,
   "metadata": {},
   "outputs": [],
   "source": []
  }
 ],
 "metadata": {
  "kernelspec": {
   "display_name": "Python 3",
   "language": "python",
   "name": "python3"
  },
  "language_info": {
   "codemirror_mode": {
    "name": "ipython",
    "version": 3
   },
   "file_extension": ".py",
   "mimetype": "text/x-python",
   "name": "python",
   "nbconvert_exporter": "python",
   "pygments_lexer": "ipython3",
   "version": "3.6.4"
  }
 },
 "nbformat": 4,
 "nbformat_minor": 2
}
