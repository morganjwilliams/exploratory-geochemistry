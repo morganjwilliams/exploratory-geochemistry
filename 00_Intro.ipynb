{
 "cells": [
  {
   "cell_type": "markdown",
   "metadata": {},
   "source": [
    "# Exploratory Multivariate Analysis of Geochemical Datasets\n",
    "Compiled by [Morgan Williams](mailto:morgan.williams@csiro.au) for C3DIS 2018 "
   ]
  },
  {
   "cell_type": "markdown",
   "metadata": {},
   "source": [
    "This collection of Jupyter notebooks illustrates some common simple problems encountered with geochemical data, and some solutions. They cover the majority of the workflow outlined below. Associated data is sourced solely from the [EarthChem data portal](http://ecp.iedadata.org/), and is here stored in a S3 bucket for simplicity."
   ]
  },
  {
   "cell_type": "markdown",
   "metadata": {},
   "source": [
    "### The Workflow"
   ]
  },
  {
   "cell_type": "markdown",
   "metadata": {},
   "source": [
    "The data analysis workflow denoted below lists some common necessary tasks to derive useful insight from geochemical data. Much of this is common to any data science workflow, but due to the nature of the geochemical data itself, a few of these processes are still current research problems. Our research aims not to introduce radical change in methodology, but instead to simply streamline and standardise the process, such that we can use geochemistry in a robust way to address geological problems."
   ]
  },
  {
   "cell_type": "markdown",
   "metadata": {},
   "source": [
    "![Workflow Image](images/Workflow.png)"
   ]
  },
  {
   "cell_type": "markdown",
   "metadata": {},
   "source": [
    "### The Problem"
   ]
  },
  {
   "cell_type": "markdown",
   "metadata": {},
   "source": [
    "Much has happened since our planet was a primitive ball of molten rock,  including the origin of plate tectonics, the modern atmosphere and life. This extended geological history has been encoded into chemical signatures of rocks and minerals, which may then used to (partially) reconstruct the past.\n",
    "\n",
    "Inverting geochemistry to infer the geological past is commonly an underdetermined problem (especially prior to the advent of modern geochemical analysis instrumentation), and is hindered by complex geological histories.\n",
    "\n",
    "Modern analytical methods have higher throughput and greater sensitivity and precision. As a result, established publicly-accessible geochemical databases are growing steadily. However, the potential value of aggregating the increasing volume of high-quality data has not yet been fully realised."
   ]
  },
  {
   "cell_type": "markdown",
   "metadata": {},
   "source": [
    "### The Other Problems.."
   ]
  },
  {
   "cell_type": "markdown",
   "metadata": {},
   "source": [
    "Before we can tackle the geological problems, we must first have a dataset which is consistently formatted and which contains relevant data of sufficient accuracy (lest we achieve simply *\"garbage in, garbage out\"*). These notebooks illustrate some of these processing steps, and demonstrate some approaches for the initial stages of data exploration."
   ]
  },
  {
   "cell_type": "markdown",
   "metadata": {},
   "source": [
    "### The Data"
   ]
  },
  {
   "cell_type": "markdown",
   "metadata": {},
   "source": [
    "If you wish to download a subset of the EarthChem data to this binder server (approx 300 MB as a sparse dataframe) such that it can be acessed in later notebooks, do so below. If you do not, it will instead be downloaded *on-run* as necessary. Please note this can take more than a minute even on a good day."
   ]
  },
  {
   "cell_type": "code",
   "execution_count": 1,
   "metadata": {},
   "outputs": [],
   "source": [
    "%matplotlib inline\n",
    "%load_ext autoreload\n",
    "%autoreload 2"
   ]
  },
  {
   "cell_type": "code",
   "execution_count": 2,
   "metadata": {},
   "outputs": [
    {
     "name": "stdout",
     "output_type": "stream",
     "text": [
      "Wall time: 1min 39s\n"
     ]
    }
   ],
   "source": [
    "%%time\n",
    "import sys\n",
    "sys.path.insert(0, './src')\n",
    "from datasource import download_data, load_df\n",
    "download_data('EarthChemGlobal.pkl', 'EarthChemGlobal.pkl')\n",
    "#df = load_df('EarthChemGlobal.pkl')\n",
    "#print(df.info())"
   ]
  },
  {
   "cell_type": "code",
   "execution_count": null,
   "metadata": {},
   "outputs": [],
   "source": []
  }
 ],
 "metadata": {
  "kernelspec": {
   "display_name": "Python 3",
   "language": "python",
   "name": "python3"
  },
  "language_info": {
   "codemirror_mode": {
    "name": "ipython",
    "version": 3
   },
   "file_extension": ".py",
   "mimetype": "text/x-python",
   "name": "python",
   "nbconvert_exporter": "python",
   "pygments_lexer": "ipython3",
   "version": "3.6.4"
  }
 },
 "nbformat": 4,
 "nbformat_minor": 2
}
