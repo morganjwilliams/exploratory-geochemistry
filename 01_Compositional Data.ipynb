{
 "cells": [
  {
   "cell_type": "markdown",
   "metadata": {},
   "source": [
    "# 1. Compositional Data\n",
    "Compiled by [Morgan Williams](mailto:morgan.williams@csiro.au) for C3DIS 2018 "
   ]
  },
  {
   "cell_type": "markdown",
   "metadata": {},
   "source": [
    "Geochemical data is compositional in nature, meaning that values are relative and subject to closure (i.e. they sum to 100%). This leads to spurious correlation (e.g. for two variable compositions $X = C(x_1, x_2)$, $x_2 = 1-x_1$ by definition), and the restriction of possible values to $\\mathbb{R}\\in[0,1]$.\n",
    "\n",
    "Compositional random variables are log-normally distributed. Log-transformations of relative compositional components allow the use standard statistical techniques, with values previously constrained to $\\mathbb{R}\\in[0,1]$ now spread over $\\mathbb{R}\\in[-\\infty,\\infty] \\equiv \\mathbb{R}$."
   ]
  },
  {
   "cell_type": "code",
   "execution_count": 14,
   "metadata": {},
   "outputs": [],
   "source": [
    "%matplotlib inline\n",
    "%load_ext autoreload\n",
    "%autoreload 2\n",
    "import numpy as np\n",
    "import pandas as pd\n",
    "import matplotlib.pyplot as plt\n",
    "\n",
    "from geochem import *"
   ]
  },
  {
   "cell_type": "code",
   "execution_count": 15,
   "metadata": {},
   "outputs": [],
   "source": [
    "xs = 1/(np.random.randn(5)+4)\n",
    "X = np.array([xs, 1-xs])\n",
    "X = close(X)\n",
    "\n",
    "for t in [LinearTransform, ALRTransform, CLRTransform, ILRTransform]:\n",
    "    T = t()\n",
    "    Y = T.transform(X)\n",
    "    new_X = T.inverse_transform(Y)\n",
    "    assert np.allclose(X, new_X)"
   ]
  },
  {
   "cell_type": "markdown",
   "metadata": {},
   "source": [
    "## References"
   ]
  },
  {
   "cell_type": "markdown",
   "metadata": {},
   "source": []
  }
 ],
 "metadata": {
  "kernelspec": {
   "display_name": "Python 3",
   "language": "python",
   "name": "python3"
  },
  "language_info": {
   "codemirror_mode": {
    "name": "ipython",
    "version": 3
   },
   "file_extension": ".py",
   "mimetype": "text/x-python",
   "name": "python",
   "nbconvert_exporter": "python",
   "pygments_lexer": "ipython3",
   "version": "3.6.4"
  }
 },
 "nbformat": 4,
 "nbformat_minor": 2
}
