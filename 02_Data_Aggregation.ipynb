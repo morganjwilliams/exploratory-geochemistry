{
 "cells": [
  {
   "cell_type": "markdown",
   "metadata": {},
   "source": [
    "# 2. Data Aggregation\n",
    "Compiled by [Morgan Williams](mailto:morgan.williams@csiro.au) for C3DIS 2018 "
   ]
  },
  {
   "cell_type": "markdown",
   "metadata": {},
   "source": [
    "As with "
   ]
  },
  {
   "cell_type": "code",
   "execution_count": 2,
   "metadata": {},
   "outputs": [
    {
     "name": "stdout",
     "output_type": "stream",
     "text": [
      "The autoreload extension is already loaded. To reload it, use:\n",
      "  %reload_ext autoreload\n"
     ]
    }
   ],
   "source": [
    "%matplotlib inline\n",
    "%load_ext autoreload\n",
    "%autoreload 2\n",
    "import sys\n",
    "import numpy as np\n",
    "import pandas as pd\n",
    "import matplotlib.pyplot as plt\n",
    "\n",
    "sys.path.insert(0, './src')\n",
    "from geochem import *\n",
    "from text_accessories import titlecase"
   ]
  },
  {
   "cell_type": "markdown",
   "metadata": {},
   "source": [
    "## Unification: Standardisation and Aggregation of Columns"
   ]
  },
  {
   "cell_type": "markdown",
   "metadata": {},
   "source": [
    "A number of complications arise due to database format and academic norms:\n",
    "* Geochemical data comes in a variety of formats, and multiple valid representations. For example, compositions typically use oxides (e.g. $SiO_2$) over elements (e.g. $Si$) for major components, whereas trace elements are almost exclusively reported in the elemental form. \n",
    "* Compositions can validly be represented as molar (e.g. mol%) and weight-based (e.g wt%, parts per million) quantities. \n",
    "* Slight differences between approaches, and the presence of 'minor elements' (which can be either significant enough to express as oxides, or insignificant enough to express as elements) leads to databases which can contain values for multiple forms of the same element."
   ]
  },
  {
   "cell_type": "code",
   "execution_count": 63,
   "metadata": {},
   "outputs": [
    {
     "name": "stdout",
     "output_type": "stream",
     "text": [
      "['SampleID' 'IGSN' 'Source' 'Reference' 'CruiseID' 'Latitude' 'Longitude'\n",
      " 'LocPrec' 'MinAge' 'Age' 'MaxAge' 'Method' 'Material' 'Type'\n",
      " 'Composition' 'RockName' 'Mineral' 'SiO2' 'TiO2' 'Al2O3' 'Fe2O3' 'Fe2O3T'\n",
      " 'FeO' 'FeOT' 'MgO' 'CaO' 'U238' 'Na2O' 'K2O' 'P2O5' 'MnO' 'LOI' 'H2O'\n",
      " 'Cr2O3' 'La' 'NiO' 'Caco3' 'Ce' 'Pr' 'Nd' 'Sm' 'Eu' 'Gd' 'Tb' 'Dy' 'Ho'\n",
      " 'Er' 'Tm' 'Yb' 'Lu' 'Li' 'Be' 'B' 'C' 'CO2' 'F' 'Th230' 'Cl' 'K' 'Ca'\n",
      " 'Mg' 'Sc' 'Ti' 'V' 'Fe' 'Cr' 'Mn' 'Co' 'Ni' 'Zn' 'Cu' 'Zr' 'Ga' 'Ra226'\n",
      " 'Pa231' 'Th232' 'Ba' 'W' 'Au' 'Hg' 'Ta' 'Sb' 'Se' 'Sn' 'S' 'U' 'Re' 'I'\n",
      " 'P' 'Y' 'Mo' 'Pd' 'Te' 'Pt' 'Hf' 'Ir' 'Pb' 'Indium' 'Ag' 'Th' 'Tl' 'As'\n",
      " 'Rb' 'Al' 'Cs' 'Sr' 'Bi' 'Nb' 'Os' 'Cd' 'Quartz']\n"
     ]
    }
   ],
   "source": [
    "df = pd.read_csv(r'./data/examples/processingexample_1.csv')\n",
    "df = df.loc[:, [c for c in df.columns if not (\"_\" in c)]]\n",
    "df.columns = [titlecase(h, abbrv=['ID', 'IGSN'], split_on=\"[\\s_-]+\") for h in df.columns] # Establish naming convention for headers\n",
    "element_translation = {e.upper(): e for e in common_oxides(output='str') + common_elements(output='str')}\n",
    "df.columns = [element_translation[h.upper()] if h.upper() in element_translation else h for h in df.columns]\n",
    "print(df.columns.values)"
   ]
  },
  {
   "cell_type": "code",
   "execution_count": 64,
   "metadata": {},
   "outputs": [
    {
     "name": "stdout",
     "output_type": "stream",
     "text": [
      "['SampleID' 'IGSN' 'Source' 'Reference' 'CruiseID' 'Latitude' 'Longitude'\n",
      " 'LocPrec' 'MinAge' 'Age' 'MaxAge' 'Method' 'Material' 'Type'\n",
      " 'Composition' 'RockName' 'Mineral']\n",
      "['H2O', 'CO2', 'Na2O', 'MgO', 'Al2O3', 'SiO2', 'P2O5', 'K2O', 'CaO', 'TiO2', 'Cr2O3', 'MnO', 'FeO', 'Fe2O3', 'NiO', 'FeOT', 'Fe2O3T', 'LOI']\n"
     ]
    }
   ],
   "source": [
    "major_components = [i for i in common_oxides(output='str') if i in df.columns]\n",
    "elemental_components = [i for i in common_elements(output='str') if i in df.columns]\n",
    "metadata_headers = df.columns[:list(df.columns).index('SiO2')].values  # Everything before SiO2\n",
    "print(metadata_headers)\n",
    "print(major_components)"
   ]
  },
  {
   "cell_type": "markdown",
   "metadata": {},
   "source": [
    "Redox-sensitive elements are commonly denonted as in either one or multiple oxidation states (e.g. Fe is commonly listed as Fe, FeO, Fe2O3, FeOT, Fe2O3T). Where multiple oxidation states are listed, geological information exists (i.e. the oxidation state of the rock; this could be extracted and added as a secondary feature..), but this is not common, and effective comparison with other rocks requires unification to one state (typically either FeOT or Fe2O3T)."
   ]
  },
  {
   "cell_type": "code",
   "execution_count": 65,
   "metadata": {},
   "outputs": [
    {
     "name": "stdout",
     "output_type": "stream",
     "text": [
      "We've now adjusted the major oxide components to: ['H2O', 'CO2', 'Na2O', 'MgO', 'Al2O3', 'SiO2', 'P2O5', 'K2O', 'CaO', 'TiO2', 'Cr2O3', 'MnO', 'NiO', 'FeOT', 'LOI']\n"
     ]
    }
   ],
   "source": [
    "df = recalculate_redox(df, to_oxidised=False, renorm=False)\n",
    "df = renormalise(df, components=major_components)\n",
    "major_components = [i for i in common_oxides(output='str') if i in df.columns]\n",
    "print(f\"We've now adjusted the major oxide components to: {major_components}\")"
   ]
  },
  {
   "cell_type": "markdown",
   "metadata": {},
   "source": [
    "Hydration is one of the most common reactions encountered in geology. In some rocks, this can be approximated as simple addition of water. But, as the data is compositional - the abundance of other components is altered due to this process. As a first-pass, these volatile components can be removed to readjust the bulk-rock composition:"
   ]
  },
  {
   "cell_type": "code",
   "execution_count": 66,
   "metadata": {},
   "outputs": [
    {
     "name": "stdout",
     "output_type": "stream",
     "text": [
      "We've now adjusted the major oxide components to: ['Na2O', 'MgO', 'Al2O3', 'SiO2', 'P2O5', 'K2O', 'CaO', 'TiO2', 'Cr2O3', 'MnO', 'NiO', 'FeOT']\n"
     ]
    }
   ],
   "source": [
    "df = devolatilise(df, exclude=['H2O', 'H2O_PLUS', 'H2O_MINUS', 'CO2', 'LOI'], renorm=False)\n",
    "df = renormalise(df, components=major_components)\n",
    "major_components = [i for i in common_oxides(output='str') if i in df.columns]\n",
    "print(f\"We've now adjusted the major oxide components to: {major_components}\")"
   ]
  },
  {
   "cell_type": "markdown",
   "metadata": {},
   "source": [
    "Furthermore, elements are commonly present in more than one form; to compare them they should be aggregated to a single series:"
   ]
  },
  {
   "cell_type": "code",
   "execution_count": 67,
   "metadata": {},
   "outputs": [
    {
     "name": "stdout",
     "output_type": "stream",
     "text": [
      "Elements in both oxide and trace form: [Mg, Al, P, K, Ca, Ti, Cr, Mn, Ni]\n",
      "After aggregation: []\n"
     ]
    }
   ],
   "source": [
    "mutual_elements = check_multiple_cation_inclusion(df)\n",
    "print(f'Elements in both oxide and trace form: {mutual_elements}')\n",
    "\n",
    "for el in mutual_elements:\n",
    "    df = aggregate_cation(df, el, form='oxide', unit_scale=1/10000)\n",
    "\n",
    "print(f'After aggregation: {check_multiple_cation_inclusion(df)}')\n"
   ]
  },
  {
   "cell_type": "markdown",
   "metadata": {},
   "source": [
    "Ideally, chemical components would be present in the same form throughout a database, and in the same units. Here we stop short of this for simplicity."
   ]
  },
  {
   "cell_type": "code",
   "execution_count": 68,
   "metadata": {},
   "outputs": [
    {
     "name": "stdout",
     "output_type": "stream",
     "text": [
      "Final components: ['Na2O', 'MgO', 'Al2O3', 'SiO2', 'P2O5', 'K2O', 'CaO', 'TiO2', 'Cr2O3', 'MnO', 'NiO', 'FeOT', 'Li', 'Be', 'B', 'C', 'F', 'S', 'Cl', 'Sc', 'V', 'Fe', 'Co', 'Cu', 'Zn', 'Ga', 'As', 'Se', 'Rb', 'Sr', 'Y', 'Zr', 'Nb', 'Mo', 'Pd', 'Ag', 'Cd', 'Sn', 'Sb', 'Te', 'I', 'Cs', 'Ba', 'La', 'Ce', 'Pr', 'Nd', 'Sm', 'Eu', 'Gd', 'Tb', 'Dy', 'Ho', 'Er', 'Tm', 'Yb', 'Lu', 'Hf', 'Ta', 'W', 'Re', 'Os', 'Ir', 'Pt', 'Au', 'Hg', 'Tl', 'Pb', 'Bi', 'Th', 'U']\n"
     ]
    }
   ],
   "source": [
    "geochemical_components = [comp for comp in common_oxides(output='str') + common_elements(output='str') if comp in df.columns]\n",
    "print(f\"Final components: {geochemical_components}\")"
   ]
  },
  {
   "cell_type": "markdown",
   "metadata": {},
   "source": [
    "## Aggregation of Records"
   ]
  },
  {
   "cell_type": "markdown",
   "metadata": {},
   "source": [
    "Where multiple records correspond to the same sample (as is common in geochemistry; major components are commonly measured separately to trace components), it may be valid to aggregate them:\n",
    "1. If the records contain the same components, the aggregation can be performed using a weighted mean of the log-transformed components.\n",
    "2. If the records contain mutually exclusive components, they may be combined subject to an adjusted closure parameter.\n",
    "3. If neither of these are the case, the situation becomes more complex:\n",
    "    * If records contain just one common component the aggregation is equivalent to 'internal standardisation', a technique commonly used in geochemical analysis. The records are scaled such that the common component is equivalent (typically scaled to the most accurate value), and from there the aggregation as is above in situation 2.\n",
    "    * If the records contain more than one common component, an alterative method is needed. In this case, 'best fit' scaling is the simplest approach where additional information is not present."
   ]
  },
  {
   "cell_type": "code",
   "execution_count": null,
   "metadata": {},
   "outputs": [],
   "source": []
  },
  {
   "cell_type": "code",
   "execution_count": null,
   "metadata": {},
   "outputs": [],
   "source": []
  }
 ],
 "metadata": {
  "kernelspec": {
   "display_name": "Python 3",
   "language": "python",
   "name": "python3"
  },
  "language_info": {
   "codemirror_mode": {
    "name": "ipython",
    "version": 3
   },
   "file_extension": ".py",
   "mimetype": "text/x-python",
   "name": "python",
   "nbconvert_exporter": "python",
   "pygments_lexer": "ipython3",
   "version": "3.6.4"
  }
 },
 "nbformat": 4,
 "nbformat_minor": 2
}
