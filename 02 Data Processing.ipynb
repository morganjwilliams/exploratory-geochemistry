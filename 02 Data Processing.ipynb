{
 "cells": [
  {
   "cell_type": "markdown",
   "metadata": {},
   "source": [
    "# 2. Data Processing\n",
    "Compiled by Morgan Williams for C3DIS 2018 [Contact](mailto:morgan.williams@csiro.au)"
   ]
  },
  {
   "cell_type": "code",
   "execution_count": null,
   "metadata": {},
   "outputs": [],
   "source": [
    "%matplotlib inline\n",
    "%load_ext autoreload\n",
    "%autoreload 2\n",
    "from geochem import *"
   ]
  },
  {
   "cell_type": "markdown",
   "metadata": {},
   "source": [
    "## Unification"
   ]
  },
  {
   "cell_type": "markdown",
   "metadata": {},
   "source": [
    "A number of complications arise due to database format and academic norms:\n",
    "* Geochemical data comes in a variety of formats, and multiple valid representations. For example, compositions typically use oxides (e.g. $SiO_2$) over elements (e.g. $Si$) for major components, whereas trace elements are almost exclusively reported in the elemental form. \n",
    "* Compositions can validly be represented as molar (e.g. mol%) and weight-based (e.g wt%, parts per million) quantities. \n",
    "* Slight differences between approaches, and the presence of 'minor elements' (which can be either significant enough to express as oxides, or insignificant enough to express as elements) leads to databases which can contain values for multiple forms of the same element."
   ]
  },
  {
   "cell_type": "code",
   "execution_count": null,
   "metadata": {},
   "outputs": [],
   "source": []
  },
  {
   "cell_type": "markdown",
   "metadata": {},
   "source": [
    "## Aggregation of Records"
   ]
  },
  {
   "cell_type": "markdown",
   "metadata": {},
   "source": [
    "Where multiple records correspond to the same sample (as is common in geochemistry; major components are commonly measured separately to trace components), it may be valid to aggregate them:\n",
    "1. If the records contain the same components, the aggregation can be performed using a weighted mean of the log-transformed components.\n",
    "2. If the records contain mutually exclusive components, they may be combined subject to an adjusted closure parameter.\n",
    "3. If neither of these are the case, the situation becomes more complex:\n",
    "    * If records contain just one common component the aggregation is equivalent to 'internal standardisation', a technique commonly used in geochemical analysis. The records are scaled such that the common component is equivalent (typically scaled to the most accurate value), and from there the aggregation as is above in situation 2.\n",
    "    * If the records contain more than one common component, an alterative method is needed. In this case, 'best fit' scaling is the simplest approach where additional information is not present."
   ]
  },
  {
   "cell_type": "code",
   "execution_count": null,
   "metadata": {},
   "outputs": [],
   "source": []
  }
 ],
 "metadata": {
  "kernelspec": {
   "display_name": "Python 3",
   "language": "python",
   "name": "python3"
  },
  "language_info": {
   "codemirror_mode": {
    "name": "ipython",
    "version": 3
   },
   "file_extension": ".py",
   "mimetype": "text/x-python",
   "name": "python",
   "nbconvert_exporter": "python",
   "pygments_lexer": "ipython3",
   "version": "3.6.4"
  }
 },
 "nbformat": 4,
 "nbformat_minor": 2
}
