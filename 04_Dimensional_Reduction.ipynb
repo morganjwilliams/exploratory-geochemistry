{
 "cells": [
  {
   "cell_type": "markdown",
   "metadata": {},
   "source": [
    "# 4. Dimensional Reduction\n",
    "Compiled by [Morgan Williams](mailto:morgan.williams@csiro.au) for C3DIS 2018 "
   ]
  },
  {
   "cell_type": "markdown",
   "metadata": {},
   "source": [
    "Traditional analysis has utilised the similarities in physiochemical properties between geochemical components as a (generally valid) method of dimensional reduction, but excludes data which may otherwise be useful indicators of subtle differences."
   ]
  },
  {
   "cell_type": "code",
   "execution_count": 1,
   "metadata": {},
   "outputs": [],
   "source": [
    "%matplotlib inline\n",
    "%load_ext autoreload\n",
    "%autoreload 2\n",
    "import os, sys\n",
    "import numpy as np\n",
    "import pandas as pd\n",
    "import matplotlib.pyplot as plt\n",
    "import matplotlib.colors as mcolors\n",
    "from sklearn.decomposition import PCA\n",
    "\n",
    "sys.path.insert(0, './src')\n",
    "from compositions import *\n",
    "from geochem import *\n",
    "\n",
    "np.random.seed(1)"
   ]
  },
  {
   "cell_type": "code",
   "execution_count": 2,
   "metadata": {},
   "outputs": [],
   "source": [
    "fndir = r'data/examples/'\n",
    "fns = ['boxite.xlsx', 'coxite.xlsx', 'hongite.xlsx', 'kongite.xlsx']\n",
    "dfs = [pd.read_excel(os.path.join(fndir, f)) for f in fns]\n",
    "[setattr(df, 'label', fns[ix]) for ix, df in enumerate(dfs)]\n",
    "B, C, H, K = dfs"
   ]
  },
  {
   "cell_type": "code",
   "execution_count": 3,
   "metadata": {},
   "outputs": [
    {
     "name": "stdout",
     "output_type": "stream",
     "text": [
      "        A     B     C     D    E  Depth\n",
      "B1   43.5  25.1  14.7  10.0  6.7      1\n",
      "B2   41.1  27.5  13.9   9.5  8.0      2\n",
      "B3   41.5  20.1  20.6  11.1  6.7      3\n",
      "B4   33.9  37.8  11.1  11.5  5.7      4\n",
      "B5   46.5  16.0  15.6  14.3  7.6      5\n",
      "B6   45.3  19.4  14.8  13.5  9.3      6\n",
      "B7   33.2  25.2  15.2  17.1  9.3      7\n",
      "B8   40.8  15.1  21.7  14.6  7.8      8\n",
      "B9   33.0  30.8  15.1  12.9  8.2      9\n",
      "B10  28.2  38.6  12.1  14.1  6.9     10\n",
      "B11  33.9  31.5  15.4  12.0  7.2     11\n",
      "B12  48.7  19.3  13.4  10.7  7.9     12\n",
      "B13  37.8  37.1  10.4   8.6  6.1     13\n",
      "B14  42.0  26.6  13.7  10.5  7.2     14\n",
      "B15  44.2  26.5  12.9   9.6  6.8     15\n",
      "B16  39.7  23.2  20.6  10.2  6.3     16\n",
      "B17  39.3  28.1  13.0  13.6  6.0     17\n",
      "B18  34.1  26.7  13.6  17.0  8.6     18\n",
      "B19  36.2  35.3  11.2  11.9  5.4     19\n",
      "B20  39.5  36.0   9.4   8.4  6.7     20\n",
      "B21  39.5  22.5  18.7  11.4  7.9     21\n",
      "B22  33.0  33.5  17.7   9.8  6.0     22\n",
      "B23  42.3  16.6  16.9  17.0  7.2     23\n",
      "B24  39.9  19.0  13.4  21.3  6.4     24\n",
      "B25  37.8  30.9  11.9  12.9  6.5     25\n"
     ]
    }
   ],
   "source": [
    "print(B)"
   ]
  },
  {
   "cell_type": "markdown",
   "metadata": {},
   "source": [
    "## Principal Component Analysis"
   ]
  },
  {
   "cell_type": "code",
   "execution_count": null,
   "metadata": {},
   "outputs": [],
   "source": []
  },
  {
   "cell_type": "markdown",
   "metadata": {},
   "source": [
    "## Measures of Geochemical Similarity"
   ]
  },
  {
   "cell_type": "code",
   "execution_count": null,
   "metadata": {},
   "outputs": [],
   "source": []
  },
  {
   "cell_type": "markdown",
   "metadata": {},
   "source": [
    "## Mixtures"
   ]
  },
  {
   "cell_type": "markdown",
   "metadata": {},
   "source": [
    "#### Polytypic Vector Analysis\n",
    "Reproduce analysis of Szymanski et al (2013): Evaluating Complex Magma Mixing via Polytopic Vector Analysis (PVA) in the Papagayo Tuff, Northern Costa Rica: Processes that Form Continental Crust"
   ]
  },
  {
   "cell_type": "code",
   "execution_count": null,
   "metadata": {},
   "outputs": [],
   "source": []
  }
 ],
 "metadata": {
  "kernelspec": {
   "display_name": "Python 3",
   "language": "python",
   "name": "python3"
  },
  "language_info": {
   "codemirror_mode": {
    "name": "ipython",
    "version": 3
   },
   "file_extension": ".py",
   "mimetype": "text/x-python",
   "name": "python",
   "nbconvert_exporter": "python",
   "pygments_lexer": "ipython3",
   "version": "3.6.4"
  }
 },
 "nbformat": 4,
 "nbformat_minor": 2
}
